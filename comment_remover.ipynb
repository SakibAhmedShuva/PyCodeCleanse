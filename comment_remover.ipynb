{
 "cells": [
  {
   "cell_type": "code",
   "execution_count": 1,
   "id": "eeece532",
   "metadata": {},
   "outputs": [],
   "source": [
    "import re\n",
    "import os\n",
    "\n",
    "def remove_comments(file_path, output_path=None):\n",
    "    \"\"\"\n",
    "    Remove all comments from a Python file while preserving code functionality.\n",
    "    \n",
    "    Args:\n",
    "        file_path: Path to the Python file to process\n",
    "        output_path: Path to save the cleaned file (if None, will use original name with _clean suffix)\n",
    "    \n",
    "    Returns:\n",
    "        Path to the cleaned file\n",
    "    \"\"\"\n",
    "    if output_path is None:\n",
    "        base, ext = os.path.splitext(file_path)\n",
    "        output_path = f\"{base}_clean{ext}\"\n",
    "    \n",
    "    with open(file_path, 'r', encoding='utf-8') as f:\n",
    "        content = f.read()\n",
    "    \n",
    "    # First, handle docstrings and multi-line string literals\n",
    "    # We need to be careful not to remove string literals that are part of the code\n",
    "    def replace_triple_quotes(match):\n",
    "        s = match.group(0)\n",
    "        # If it's an assignment or part of a function call, keep it\n",
    "        if re.search(r'=\\s*[rfub]*(\"\"\"|\\'\\'\\')', s) or re.search(r'\\([rfub]*(\"\"\"|\\'\\'\\')', s):\n",
    "            return s\n",
    "        # Otherwise, it's likely a comment/docstring, so remove it\n",
    "        return ''\n",
    "    \n",
    "    # Handle triple-quoted strings (both \"\"\" and ''')\n",
    "    pattern = r'(\"\"\"[\\s\\S]*?\"\"\")|(\\'\\'\\'[\\s\\S]*?\\'\\'\\')'\n",
    "    content = re.sub(pattern, replace_triple_quotes, content)\n",
    "    \n",
    "    # Handle single-line comments, but be careful not to remove # inside strings\n",
    "    lines = content.split('\\n')\n",
    "    cleaned_lines = []\n",
    "    \n",
    "    in_string = False\n",
    "    string_char = None\n",
    "    \n",
    "    for line in lines:\n",
    "        cleaned_line = \"\"\n",
    "        i = 0\n",
    "        while i < len(line):\n",
    "            # Check for string start/end\n",
    "            if line[i] in ['\"', \"'\"] and (i == 0 or line[i-1] != '\\\\'):\n",
    "                if not in_string:\n",
    "                    in_string = True\n",
    "                    string_char = line[i]\n",
    "                elif line[i] == string_char:\n",
    "                    in_string = False\n",
    "                cleaned_line += line[i]\n",
    "            # Check for comments outside of strings\n",
    "            elif line[i] == '#' and not in_string:\n",
    "                break  # Ignore rest of the line\n",
    "            else:\n",
    "                cleaned_line += line[i]\n",
    "            i += 1\n",
    "        \n",
    "        # Only add non-empty lines to preserve code structure\n",
    "        if cleaned_line.strip():\n",
    "            cleaned_lines.append(cleaned_line)\n",
    "    \n",
    "    # Write cleaned content to output file\n",
    "    with open(output_path, 'w', encoding='utf-8') as f:\n",
    "        f.write('\\n'.join(cleaned_lines))\n",
    "    \n",
    "    return output_path"
   ]
  },
  {
   "cell_type": "code",
   "execution_count": 2,
   "id": "ed8c9d3f",
   "metadata": {},
   "outputs": [
    {
     "name": "stdout",
     "output_type": "stream",
     "text": [
      "Comments removed successfully. Cleaned file saved to: d:\\OneDrive - Personal\\Desktop\\main_functions_clean.py\n"
     ]
    }
   ],
   "source": [
    "# Example usage in Jupyter notebook\n",
    "# Replace 'your_input_file.py' with the path to the Python file you want to process\n",
    "input_file = r'd:\\OneDrive - Personal\\Desktop\\main_functions.py'  # Update this with your file path\n",
    "output_file = None  # Optional: specify output path or leave as None for automatic naming\n",
    "\n",
    "try:\n",
    "    cleaned_file = remove_comments(input_file, output_file)\n",
    "    print(f\"Comments removed successfully. Cleaned file saved to: {cleaned_file}\")\n",
    "except Exception as e:\n",
    "    print(f\"Error processing file: {e}\")"
   ]
  },
  {
   "cell_type": "code",
   "execution_count": null,
   "id": "59f61df5",
   "metadata": {},
   "outputs": [],
   "source": []
  }
 ],
 "metadata": {
  "kernelspec": {
   "display_name": "Python 3",
   "language": "python",
   "name": "python3"
  },
  "language_info": {
   "codemirror_mode": {
    "name": "ipython",
    "version": 3
   },
   "file_extension": ".py",
   "mimetype": "text/x-python",
   "name": "python",
   "nbconvert_exporter": "python",
   "pygments_lexer": "ipython3",
   "version": "3.10.11"
  }
 },
 "nbformat": 4,
 "nbformat_minor": 5
}
